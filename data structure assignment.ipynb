{
 "cells": [
  {
   "cell_type": "markdown",
   "id": "6399ec8f-5fda-46fc-8392-962aca8338f7",
   "metadata": {},
   "source": [
    "QUES1 -  Discuss string slicing and provide examples"
   ]
  },
  {
   "cell_type": "markdown",
   "id": "a88e1946-5f86-48f4-b906-caf9ccbd90f7",
   "metadata": {},
   "source": [
    "using slicing we can extract substrings from a string. It helps us to access some part of the string which we need for further use."
   ]
  },
  {
   "cell_type": "code",
   "execution_count": 3,
   "id": "904aec87-609f-4b1d-944b-f188a5ca2420",
   "metadata": {},
   "outputs": [
    {
     "data": {
      "text/plain": [
       "'I am a '"
      ]
     },
     "execution_count": 3,
     "metadata": {},
     "output_type": "execute_result"
    }
   ],
   "source": [
    "#EXAMPLE1 : \n",
    "a = \"I am a girl\"\n",
    "a[:-4]\n",
    "    "
   ]
  },
  {
   "cell_type": "code",
   "execution_count": 5,
   "id": "e10389ed-4d3f-4328-b424-38110b5273cb",
   "metadata": {},
   "outputs": [
    {
     "data": {
      "text/plain": [
       "'ananab'"
      ]
     },
     "execution_count": 5,
     "metadata": {},
     "output_type": "execute_result"
    }
   ],
   "source": [
    "# EXAMPLE2 :\n",
    "b = \"banana\"\n",
    "b[::-1]\n"
   ]
  },
  {
   "cell_type": "markdown",
   "id": "7b4e5a9a-9898-40cc-b562-4d413eae09fe",
   "metadata": {},
   "source": [
    "QUES2 -  Explain the key features of lists in Python"
   ]
  },
  {
   "cell_type": "raw",
   "id": "22141cea-8116-4e37-b2ed-aa9d8d3ba992",
   "metadata": {},
   "source": [
    "1. Lists can hold items of various data types like numbers, strings, even other lists\n",
    "2.lists are mutable\n",
    "3.it is an ordered collection of items.\n",
    "4.lists are versatile for storing and managing collections that might change."
   ]
  },
  {
   "cell_type": "markdown",
   "id": "fab37d2a-0b69-4241-b5fc-bfb0e2f06641",
   "metadata": {},
   "source": [
    "QUES3 - Describe how to access , modify and delete elements in a list with examples"
   ]
  },
  {
   "cell_type": "code",
   "execution_count": 6,
   "id": "386f6a14-e096-412e-b199-1c3e8d8a3b05",
   "metadata": {},
   "outputs": [
    {
     "data": {
      "text/plain": [
       "'orange'"
      ]
     },
     "execution_count": 6,
     "metadata": {},
     "output_type": "execute_result"
    }
   ],
   "source": [
    "#EXAMPLE1 - accessing elements \n",
    "list = [\"apple\", \"banana\", \"orange\"]\n",
    "list[2]"
   ]
  },
  {
   "cell_type": "code",
   "execution_count": 8,
   "id": "178b81d3-8a20-46a4-9b20-8d151737f844",
   "metadata": {},
   "outputs": [
    {
     "data": {
      "text/plain": [
       "['apple', 'mango', 'orange']"
      ]
     },
     "execution_count": 8,
     "metadata": {},
     "output_type": "execute_result"
    }
   ],
   "source": [
    "#EXAMPLE2 - modifying elements\n",
    "list = [\"apple\", \"banana\", \"orange\"]\n",
    "list [1] = \"mango\"\n",
    "list"
   ]
  },
  {
   "cell_type": "code",
   "execution_count": 10,
   "id": "c3657c08-8d31-43f4-b62f-9b0ec1ad90df",
   "metadata": {},
   "outputs": [
    {
     "data": {
      "text/plain": [
       "['apple', 'banana']"
      ]
     },
     "execution_count": 10,
     "metadata": {},
     "output_type": "execute_result"
    }
   ],
   "source": [
    "#EXAMPLE3 - deleting elements\n",
    "list = [\"apple\", \"banana\", \"orange\"]\n",
    "list.pop()\n",
    "list"
   ]
  },
  {
   "cell_type": "markdown",
   "id": "85c5673c-f0ee-4fbb-bd20-e20c8d5d0801",
   "metadata": {},
   "source": [
    "QUES4 -Compare and contrast tuples and lists with examples\n",
    "\n",
    "\n",
    "\n",
    " "
   ]
  },
  {
   "cell_type": "markdown",
   "id": "2ee59a4f-d6e7-4704-a9e7-3b9ecd2081b2",
   "metadata": {},
   "source": [
    "TUPLES - Tuples are ordered collection of data which is similar to lists. They are immutable hence they cannot be modified.Once created the items in a tuple cannot be changed. They provide a secure way to store data that shouldn't be modified.They are stored in open brackets.\n",
    "### EXAMPLE - \n"
   ]
  },
  {
   "cell_type": "code",
   "execution_count": 3,
   "id": "daf43f68-22f9-4a65-be3b-f04e050a7643",
   "metadata": {},
   "outputs": [
    {
     "data": {
      "text/plain": [
       "tuple"
      ]
     },
     "execution_count": 3,
     "metadata": {},
     "output_type": "execute_result"
    }
   ],
   "source": [
    "a = (\"pencil\",\"eraser\",\"scale\")\n",
    "type(a)"
   ]
  },
  {
   "cell_type": "markdown",
   "id": "b346af34-bc62-4b04-8eb1-426265a29204",
   "metadata": {},
   "source": [
    "LISTS - Lists are ordered collection of data. They are mutable hence they can be modified. Lists can hold items of various data types like numbers, strings, even other lists. Lists are versatile for storing and managing collections that might change.Elements in a list can be modified, deleted, added using slicing and indexing. They are stored in square brackets. \n",
    "### EXAMPLE - "
   ]
  },
  {
   "cell_type": "code",
   "execution_count": 5,
   "id": "e93ee694-4ffd-4f5f-9aec-84f61f0e1384",
   "metadata": {},
   "outputs": [
    {
     "data": {
      "text/plain": [
       "list"
      ]
     },
     "execution_count": 5,
     "metadata": {},
     "output_type": "execute_result"
    }
   ],
   "source": [
    "b = [\"true\",\"saroj\",3, 5.3]\n",
    "type(b)"
   ]
  },
  {
   "cell_type": "markdown",
   "id": "b88eea57-1985-4d4e-9017-783052fb111b",
   "metadata": {},
   "source": [
    "QUES 5 - DescrIbe the key features of sets and provide examples of their use\n"
   ]
  },
  {
   "cell_type": "raw",
   "id": "b24d2f21-c9eb-4415-91f4-edaca2863305",
   "metadata": {},
   "source": [
    "1. sets are unordered and unique collection of items.\n",
    "2. they are mutable and hence they can be modified\n",
    "3. they do not allow any duplicate items\n",
    "4. indexing will not work here.\n"
   ]
  },
  {
   "cell_type": "code",
   "execution_count": 9,
   "id": "8875de37-efc3-4d0a-820e-b4477536d1ac",
   "metadata": {},
   "outputs": [
    {
     "data": {
      "text/plain": [
       "{1, 2.6, 3.1, 4}"
      ]
     },
     "execution_count": 9,
     "metadata": {},
     "output_type": "execute_result"
    }
   ],
   "source": [
    "#example of unordered\n",
    "s = {1,2.6,4,3.1}\n",
    "s"
   ]
  },
  {
   "cell_type": "code",
   "execution_count": 10,
   "id": "b2e3391a-1843-4ca8-b10e-eb6d9b9c4dc6",
   "metadata": {},
   "outputs": [
    {
     "ename": "TypeError",
     "evalue": "'set' object is not callable",
     "output_type": "error",
     "traceback": [
      "\u001b[0;31m---------------------------------------------------------------------------\u001b[0m",
      "\u001b[0;31mTypeError\u001b[0m                                 Traceback (most recent call last)",
      "Cell \u001b[0;32mIn[10], line 2\u001b[0m\n\u001b[1;32m      1\u001b[0m s \u001b[38;5;241m=\u001b[39m {\u001b[38;5;241m1\u001b[39m,\u001b[38;5;241m2.6\u001b[39m,\u001b[38;5;241m4\u001b[39m,\u001b[38;5;241m3.1\u001b[39m}\n\u001b[0;32m----> 2\u001b[0m \u001b[43ms\u001b[49m\u001b[43m(\u001b[49m\u001b[38;5;241;43m0\u001b[39;49m\u001b[43m)\u001b[49m\n",
      "\u001b[0;31mTypeError\u001b[0m: 'set' object is not callable"
     ]
    }
   ],
   "source": [
    "s = {1,2.6,4,3.1} #no indexing\n",
    "s(0)"
   ]
  },
  {
   "cell_type": "code",
   "execution_count": 12,
   "id": "9799cd93-7495-40e3-b087-4a1a4168c3b0",
   "metadata": {},
   "outputs": [
    {
     "data": {
      "text/plain": [
       "{'meena', 'rita', 'tanvi'}"
      ]
     },
     "execution_count": 12,
     "metadata": {},
     "output_type": "execute_result"
    }
   ],
   "source": [
    "b = {\"tanvi\",\"rita\",\"meena\",\"tanvi\"} #no duplication\n",
    "b"
   ]
  },
  {
   "cell_type": "markdown",
   "id": "8a577555-6efe-48c7-9d0b-ab76cfcd5e4d",
   "metadata": {},
   "source": [
    "QUES 6 - Discuss the use cases of tuples and sets in Python programming"
   ]
  },
  {
   "cell_type": "markdown",
   "id": "cf06e609-7eec-47e8-9d41-cc129de474aa",
   "metadata": {},
   "source": [
    "Tuples are useful for representing fixed datasets or configurations.\n",
    "# example : \n",
    "employee_id,aadhaar card number etc "
   ]
  },
  {
   "cell_type": "code",
   "execution_count": 14,
   "id": "0598059d-ceba-44e7-be26-f08e49af4054",
   "metadata": {},
   "outputs": [
    {
     "ename": "TypeError",
     "evalue": "'tuple' object is not callable",
     "output_type": "error",
     "traceback": [
      "\u001b[0;31m---------------------------------------------------------------------------\u001b[0m",
      "\u001b[0;31mTypeError\u001b[0m                                 Traceback (most recent call last)",
      "Cell \u001b[0;32mIn[14], line 2\u001b[0m\n\u001b[1;32m      1\u001b[0m emp_id\u001b[38;5;241m=\u001b[39m (\u001b[38;5;124m\"\u001b[39m\u001b[38;5;124mvikas\u001b[39m\u001b[38;5;124m\"\u001b[39m,\u001b[38;5;124m\"\u001b[39m\u001b[38;5;124mvijay\u001b[39m\u001b[38;5;124m\"\u001b[39m,\u001b[38;5;124m\"\u001b[39m\u001b[38;5;124mrohit\u001b[39m\u001b[38;5;124m\"\u001b[39m)\n\u001b[0;32m----> 2\u001b[0m \u001b[43memp_id\u001b[49m\u001b[43m(\u001b[49m\u001b[38;5;241;43m1\u001b[39;49m\u001b[43m)\u001b[49m\u001b[38;5;241m==\u001b[39m \u001b[38;5;124m\"\u001b[39m\u001b[38;5;124mrita\u001b[39m\u001b[38;5;124m\"\u001b[39m\n",
      "\u001b[0;31mTypeError\u001b[0m: 'tuple' object is not callable"
     ]
    }
   ],
   "source": [
    "#use case\n",
    "emp_id= (\"vikas\",\"vijay\",\"rohit\")\n",
    "emp_id(1)== \"rita\""
   ]
  },
  {
   "cell_type": "markdown",
   "id": "30dd1b20-0327-4989-9a70-67ecf8373fea",
   "metadata": {},
   "source": [
    "SETS - No duplication"
   ]
  },
  {
   "cell_type": "code",
   "execution_count": 16,
   "id": "dc2e3b63-db2e-4cd8-b743-d57c03e19cf1",
   "metadata": {},
   "outputs": [
    {
     "data": {
      "text/plain": [
       "{1, 2, 3, 'apple', 'banana', 'mango'}"
      ]
     },
     "execution_count": 16,
     "metadata": {},
     "output_type": "execute_result"
    }
   ],
   "source": [
    "#use case\n",
    "list1 = [1,2,3,\"mango\",\"apple\",\"banana\"]\n",
    "set(list1)"
   ]
  },
  {
   "cell_type": "code",
   "execution_count": 17,
   "id": "7ecce4a8-3228-4989-91d5-86f7bcd290dc",
   "metadata": {},
   "outputs": [
    {
     "name": "stdout",
     "output_type": "stream",
     "text": [
      "{1, 3, 4, 5, 6, 3.2}\n"
     ]
    }
   ],
   "source": [
    "s = {1,3,5,6,4,5,3,3.2,5}\n",
    "print(s)"
   ]
  },
  {
   "cell_type": "markdown",
   "id": "ae2a59a8-bb30-45de-9825-fc45beb90d4d",
   "metadata": {},
   "source": [
    "QUES 7 -  Describe how to add,modify and delete items in a dictionary with examples"
   ]
  },
  {
   "cell_type": "code",
   "execution_count": 14,
   "id": "48ebbbab-304c-42e4-9ec2-7956f07638cf",
   "metadata": {},
   "outputs": [
    {
     "data": {
      "text/plain": [
       "{'name': 'tanvi', 'age': '20'}"
      ]
     },
     "execution_count": 14,
     "metadata": {},
     "output_type": "execute_result"
    }
   ],
   "source": [
    "#Adding items :\n",
    "d = {\"name\":\"tanvi\",\"age\":\"20\"}\n",
    "d\n"
   ]
  },
  {
   "cell_type": "code",
   "execution_count": 18,
   "id": "e76f2fc3-785c-4c2d-81d4-7876510058d1",
   "metadata": {},
   "outputs": [
    {
     "data": {
      "text/plain": [
       "{'name': 'tanvi', 'age': '20', 'address': 'delhi'}"
      ]
     },
     "execution_count": 18,
     "metadata": {},
     "output_type": "execute_result"
    }
   ],
   "source": [
    "d[\"address\"] = \"delhi\"\n",
    "d"
   ]
  },
  {
   "cell_type": "code",
   "execution_count": 22,
   "id": "8a75f0b3-0529-4b1c-ab18-08fefbd203fc",
   "metadata": {},
   "outputs": [
    {
     "data": {
      "text/plain": [
       "{'name': 'tanvi', 'age': '20', 'address': 'delhi'}"
      ]
     },
     "execution_count": 22,
     "metadata": {},
     "output_type": "execute_result"
    }
   ],
   "source": [
    "#modifying items\n",
    "d"
   ]
  },
  {
   "cell_type": "code",
   "execution_count": 26,
   "id": "5264cf76-612f-4b09-ac72-b5355994bee9",
   "metadata": {},
   "outputs": [
    {
     "data": {
      "text/plain": [
       "{'name': 'tanvi', 'age': 18, 'address': 'delhi'}"
      ]
     },
     "execution_count": 26,
     "metadata": {},
     "output_type": "execute_result"
    }
   ],
   "source": [
    "d[\"age\"]= 18\n",
    "d"
   ]
  },
  {
   "cell_type": "code",
   "execution_count": 27,
   "id": "2a5a2e8b-c284-4551-8dc5-9aa3e27d98c6",
   "metadata": {},
   "outputs": [
    {
     "data": {
      "text/plain": [
       "{'name': 'tanvi', 'age': 18}"
      ]
     },
     "execution_count": 27,
     "metadata": {},
     "output_type": "execute_result"
    }
   ],
   "source": [
    "#deleting items\n",
    "d = {'name': 'tanvi', 'age': 18, 'address': 'delhi'}\n",
    "del d[\"address\"]\n",
    "d\n",
    "    "
   ]
  },
  {
   "cell_type": "markdown",
   "id": "5d06fb60-8181-4d3a-86e8-b40ba12b2e95",
   "metadata": {},
   "source": [
    "QUES 8 - discuss the importance of dictionary keys being immutable and provide examples"
   ]
  },
  {
   "cell_type": "markdown",
   "id": "98320b60-5ccd-4c4b-a0ba-07b8624a14f8",
   "metadata": {},
   "source": [
    "Dictionary keys are immutable because if they would be mutable its value could change and thus its hash could also change.But since whoever changes the key object can't tell that it was being used as a dictionary key, it can't move the entry around in the dictionary.\n",
    "###  example"
   ]
  },
  {
   "cell_type": "code",
   "execution_count": 30,
   "id": "851b9522-28af-4536-b614-33e31d8da37b",
   "metadata": {},
   "outputs": [
    {
     "ename": "TypeError",
     "evalue": "unhashable type: 'list'",
     "output_type": "error",
     "traceback": [
      "\u001b[0;31m---------------------------------------------------------------------------\u001b[0m",
      "\u001b[0;31mTypeError\u001b[0m                                 Traceback (most recent call last)",
      "Cell \u001b[0;32mIn[30], line 1\u001b[0m\n\u001b[0;32m----> 1\u001b[0m d \u001b[38;5;241m=\u001b[39m {[\u001b[38;5;241m1\u001b[39m,\u001b[38;5;241m2\u001b[39m,\u001b[38;5;241m3\u001b[39m,\u001b[38;5;241m4\u001b[39m]:\u001b[38;5;124m\"\u001b[39m\u001b[38;5;124mcontact\u001b[39m\u001b[38;5;124m\"\u001b[39m}\n\u001b[1;32m      2\u001b[0m d\n",
      "\u001b[0;31mTypeError\u001b[0m: unhashable type: 'list'"
     ]
    }
   ],
   "source": [
    "d = {[1,2,3,4]:\"contact\"} #lists cannot be keys because they are mutable\n",
    "d"
   ]
  },
  {
   "cell_type": "code",
   "execution_count": null,
   "id": "617bd6a8-9285-4750-90ec-6d41a881f3ef",
   "metadata": {},
   "outputs": [],
   "source": []
  }
 ],
 "metadata": {
  "kernelspec": {
   "display_name": "Python 3 (ipykernel)",
   "language": "python",
   "name": "python3"
  },
  "language_info": {
   "codemirror_mode": {
    "name": "ipython",
    "version": 3
   },
   "file_extension": ".py",
   "mimetype": "text/x-python",
   "name": "python",
   "nbconvert_exporter": "python",
   "pygments_lexer": "ipython3",
   "version": "3.10.8"
  }
 },
 "nbformat": 4,
 "nbformat_minor": 5
}
